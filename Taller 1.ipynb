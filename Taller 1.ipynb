{
 "cells": [
  {
   "cell_type": "markdown",
   "metadata": {},
   "source": [
    "# Introducción a la teoría de la computación - Taller 1"
   ]
  },
  {
   "cell_type": "markdown",
   "metadata": {},
   "source": [
    "Rubén Buelvas Villa - 1032493804"
   ]
  },
  {
   "cell_type": "markdown",
   "metadata": {},
   "source": [
    "### 2."
   ]
  },
  {
   "cell_type": "markdown",
   "metadata": {},
   "source": [
    "Sea $A = (Q, \\Sigma, \\delta, q_0, F)$ tal que:\n",
    "<ul>\n",
    "    <li>$Q= \\{q_0 , q_1, q_2, q_3, q_4, q_5\\}$</li>\n",
    "    <li>$\\Sigma = \\{a, b\\}$</li>\n",
    "    <li>$F = \\{q_1, q_2, q_3, q_4\\}$</li>\n",
    "</ul>"
   ]
  },
  {
   "cell_type": "markdown",
   "metadata": {},
   "source": [
    "<table style=\"width:30%;\" >\n",
    "  <tr>\n",
    "    <th></th>\n",
    "    <th>a</th> \n",
    "    <th>b</th>\n",
    "  </tr>\n",
    "  <tr>\n",
    "    <td>$q_0$</td>\n",
    "    <td>$q_1$</td> \n",
    "    <td>$q_2$</td>\n",
    "  </tr>\n",
    "  <tr>\n",
    "    <td>$q_1$</td>\n",
    "    <td>$q_3$</td> \n",
    "    <td>$q_2$</td>\n",
    "  </tr>\n",
    "  <tr>\n",
    "    <td>$q_2$</td>\n",
    "    <td>$q_1$</td> \n",
    "    <td>$q_4$</td>\n",
    "  </tr>\n",
    "  <tr>\n",
    "    <td>$q_3$</td>\n",
    "    <td>$q_5$</td> \n",
    "    <td>$q_2$</td>\n",
    "  </tr>\n",
    "  <tr>\n",
    "    <td>$q_4$</td>\n",
    "    <td>$q_1$</td> \n",
    "    <td>$q_5$</td>\n",
    "  </tr>\n",
    "  <tr>\n",
    "    <td>$q_5$</td>\n",
    "    <td>$q_5$</td> \n",
    "    <td>$q_5$</td>\n",
    "  </tr>\n",
    "</table>"
   ]
  },
  {
   "cell_type": "markdown",
   "metadata": {},
   "source": [
    "<img src=\"img/automata2_ab.png\"/>"
   ]
  },
  {
   "cell_type": "markdown",
   "metadata": {},
   "source": [
    "### 3."
   ]
  },
  {
   "cell_type": "markdown",
   "metadata": {},
   "source": [
    "Sea $M = (Q, \\Sigma, \\delta, q_0, F_M)$."
   ]
  },
  {
   "cell_type": "markdown",
   "metadata": {},
   "source": [
    "Para crear un autómata $M'$ tal que acepte todo aquello que $M$ no acepta, requerimos que todas las palabras $u \\in \\Sigma^*$ que hagan que $M$ llegue a un estado de aceptación, lleven a $M'$ a un estado de no aceptación, y viceversa. Esto quiere decir que $F_{M'}=Q \\setminus F_M$."
   ]
  },
  {
   "cell_type": "markdown",
   "metadata": {},
   "source": [
    "Esto quiere decir que $M'=(Q, \\Sigma, \\delta, q_0, F_{M'})$, con $F_{M'}=Q \\setminus F_M$."
   ]
  },
  {
   "cell_type": "markdown",
   "metadata": {},
   "source": [
    "### 4."
   ]
  },
  {
   "cell_type": "markdown",
   "metadata": {},
   "source": [
    "Sean $M_1 = (Q_1, \\Sigma, \\delta_1, q_{01}, F_1)$, $M_2 = (Q_2, \\Sigma, \\delta_2, q_{02}, F_2)$."
   ]
  },
  {
   "cell_type": "markdown",
   "metadata": {},
   "source": [
    "Sea $M = (Q_1$ ⨉ $Q_2, \\Sigma, \\delta, \\{q_{01}, Q_{02}\\}, F_1$ ⨉ $F_2)$ tal que:\n",
    "$$\\delta \\ (\\{r_1, r_2, ..., r_k\\}, a) = \\bigcup\\limits_{i=1}^{k} \\delta_1 \\ (r_i, a) \\cup \\delta_2 \\ (r_i, a)$$"
   ]
  },
  {
   "cell_type": "markdown",
   "metadata": {
    "collapsed": true
   },
   "source": [
    "### 5."
   ]
  },
  {
   "cell_type": "markdown",
   "metadata": {},
   "source": [
    "Sea $N=\\{Q, \\Sigma, \\delta, \\{q_0\\}, F\\}$ tal que:\n",
    "<ul>\n",
    "    <li>$Q = \\{q_0, q_1, q_2, q_3, q_4, q_5, q_6\\}$</li>\n",
    "    <li>$\\Sigma = \\{1, 2, 3\\}$</li>\n",
    "    <li>$\\{q_0\\}$, el estado inicial.</li>\n",
    "    <li>$F=\\{q_1, q_2, q_3\\}$</li>\n",
    "</ul>"
   ]
  },
  {
   "cell_type": "markdown",
   "metadata": {},
   "source": [
    "<table style=\"width:30%;\" >\n",
    "  <tr>\n",
    "    <th></th>\n",
    "    <th>1</th> \n",
    "    <th>2</th>\n",
    "    <th>3</th>\n",
    "  </tr>\n",
    "  <tr>\n",
    "    <td>$\\{q_0\\}$</td>\n",
    "    <td>$\\{q_4\\}$</td>\n",
    "    <td>$\\{q_5\\}$</td>\n",
    "    <td>$\\{q_6\\}$</td>\n",
    "  </tr>\n",
    "  <tr>\n",
    "    <td>$\\{q_1\\}$</td>\n",
    "    <td>$\\varnothing$</td>\n",
    "    <td>$\\varnothing$</td>\n",
    "    <td>$\\varnothing$</td>\n",
    "  </tr>\n",
    "  <tr>\n",
    "    <td>$\\{q_2\\}$</td>\n",
    "    <td>$\\varnothing$</td>\n",
    "    <td>$\\varnothing$</td>\n",
    "    <td>$\\varnothing$</td>\n",
    "  </tr>\n",
    "  <tr>\n",
    "    <td>$\\{q_3\\}$</td>\n",
    "    <td>$\\varnothing$</td>\n",
    "    <td>$\\varnothing$</td>\n",
    "    <td>$\\varnothing$</td>\n",
    "  </tr>\n",
    "  <tr>\n",
    "    <td>$\\{q_4\\}$</td>\n",
    "    <td>$\\{q_4, q_1\\}$</td>\n",
    "    <td>$\\{q_5\\}$</td>\n",
    "    <td>$\\{q_6\\}$</td>\n",
    "  </tr>\n",
    "  <tr>\n",
    "    <td>$\\{q_5\\}$</td>\n",
    "    <td>$\\{q_4, q_5\\}$</td>\n",
    "    <td>$\\{q_5, q_2\\}$</td>\n",
    "    <td>$\\{q_6\\}$</td>\n",
    "  </tr>\n",
    "  <tr>\n",
    "    <td>$\\{q_6\\}$</td>\n",
    "    <td>$\\{q_4, q_6\\}$</td>\n",
    "    <td>$\\{q_5, q_6\\}$</td>\n",
    "    <td>$\\{q_6, q_3\\}$</td>\n",
    "  </tr>\n",
    "</table></table>"
   ]
  },
  {
   "cell_type": "markdown",
   "metadata": {},
   "source": [
    "### 6."
   ]
  },
  {
   "cell_type": "markdown",
   "metadata": {},
   "source": [
    "<img src=\"img/divib5.png\" style=\"width:600px;\"/>"
   ]
  },
  {
   "cell_type": "code",
   "execution_count": 11,
   "metadata": {
    "collapsed": false
   },
   "outputs": [
    {
     "data": {
      "text/plain": [
       "True"
      ]
     },
     "execution_count": 11,
     "metadata": {},
     "output_type": "execute_result"
    }
   ],
   "source": [
    "lang = ['0', '1']\n",
    "aut = Automaton(lang, 5)\n",
    "aut.setAccStates([0])\n",
    "aut.addToDelta(0, '0', 0) \n",
    "aut.addToDelta(0, '1', 1) \n",
    "aut.addToDelta(1, '0', 2) \n",
    "aut.addToDelta(1, '1', 3) \n",
    "aut.addToDelta(2, '0', 4) \n",
    "aut.addToDelta(2, '1', 0) \n",
    "aut.addToDelta(3, '0', 1) \n",
    "aut.addToDelta(3, '1', 2) \n",
    "aut.addToDelta(4, '0', 3) \n",
    "aut.addToDelta(4, '1', 4) "
   ]
  },
  {
   "cell_type": "code",
   "execution_count": 12,
   "metadata": {
    "collapsed": false
   },
   "outputs": [
    {
     "name": "stdout",
     "output_type": "stream",
     "text": [
      "00000: True\n",
      "00010: False\n",
      "00101: True\n",
      "01010: True\n",
      "01110: False\n",
      "01111: True\n",
      "11000: False\n",
      "11001: True\n"
     ]
    }
   ],
   "source": [
    "print('00000: ' + str(aut.call('0')))\n",
    "print('00010: ' + str(aut.call('10')))\n",
    "print('00101: ' + str(aut.call('101')))\n",
    "print('01010: ' + str(aut.call('1010')))\n",
    "print('01110: ' + str(aut.call('1110')))\n",
    "print('01111: '  + str(aut.call('1111')))\n",
    "print('11000: ' + str(aut.call('11000')))\n",
    "print('11001: ' + str(aut.call('11001')))"
   ]
  },
  {
   "cell_type": "markdown",
   "metadata": {},
   "source": [
    "### 7."
   ]
  },
  {
   "cell_type": "markdown",
   "metadata": {},
   "source": [
    "Definición:\n",
    "$S = (Q, L, \\delta_s, \\{q_0\\}, F).$\n",
    "$L =  \\{ W  |  W ∈ \\Sigma^* \\}$\n",
    "\n",
    "El DFA puede aceptar el lenguaje del sistema de transiciones procesando las palabras de entrada con una función de transición extendida, donde los estados finales para ambos autómatas son iguales. Entonces se tiene una equivalencia entre la función de transición del sistema de transiciones y la función de transición extendida del DFA.\n",
    "\n",
    "Sea $S = (Q, L, \\delta, \\{q_0\\}, F).$\n",
    "\n",
    "$L =  \\{ W  |  W ∈ \\Sigma^* \\}$\n",
    "\n",
    "Y sea $A = (Q, \\Sigma, \\delta, \\{q_0\\}, F).$\n",
    "\n",
    "Donde $S$ es un sistema de transiciones, $A$ es un DFA y $\\delta$ es una función de transición extendida sobre $A$"
   ]
  },
  {
   "cell_type": "markdown",
   "metadata": {},
   "source": [
    "### 8."
   ]
  },
  {
   "cell_type": "markdown",
   "metadata": {},
   "source": [
    "<img src=\"img/automata_8.png\" style=\"width:500px;\" />"
   ]
  },
  {
   "cell_type": "markdown",
   "metadata": {},
   "source": [
    "<br>La afirmación es falsa, pues este autómata no acepta palabras de la forma $w = a^ic^j,i≥1,j≥1$. <br />\n",
    "Tomemos por ejemplo la palabra $w = ac$ donde $i = j = 1$.\n",
    "<ul>\n",
    "    <li>$\\delta \\ (\\{1\\}, a) = \\{2, 6\\}$</li>\n",
    "    <li>$\\delta \\ (\\{2, 6\\}, c) = \\{4, 5\\}$</li>\n",
    "</ul><br />\n",
    "La palabra termina y el autómata no ha llegado a un estado de aceptación. Por lo tanto, no acepta el lenguaje."
   ]
  },
  {
   "cell_type": "markdown",
   "metadata": {},
   "source": [
    "### 9."
   ]
  },
  {
   "cell_type": "markdown",
   "metadata": {},
   "source": [
    "La ventaja de usar estados en vez de condicionales no se nota mucho a la hora de ejecutar el programa, sin embargo cuando hay que reutilizar el código o simplemente entender cómo funciona es mucho más conveniente usar estados en vez de sólo condicionales.\n",
    "\n",
    "Los personajes de videojuegos actúan según la entrada del jugador para realizar una acción, es muy fácil modelar un personaje con diferentes estados según las diferetes entradas proporcionadas por el jugador. En casos de personajes complejos, donde una entrada tendrá un efecto diferente dependiendo de la acción que esté realizando el jugador en ese momento, se usan estados para controlar que el personaje actúe según su situación actual.\n",
    "\n",
    "El personaje principal de <b>LIMBO</b> se ha tomado para éste ejemplo.\n",
    "<b>LIMBO</b> es desarrollado por <i>Playdead Studios.</i> "
   ]
  },
  {
   "cell_type": "markdown",
   "metadata": {},
   "source": [
    "<img src=\"img/limbo.jpg\"/>\n",
    "<p style=\"text-align: right;\">Imagen original en <a href=\"http://www.3gb.com.mx/forum/resenas-multiplataforma/resena-limbo/\">3gb.com.mx</a>.</p>"
   ]
  },
  {
   "cell_type": "markdown",
   "metadata": {},
   "source": [
    "Este personaje posee únicamente cuatro acciones a nivel de <i>gameplay</i>:\n",
    "<ul>\n",
    "    <li>Moverse a la izquierda (tecla $\\leftarrow$).</li>\n",
    "    <li>Moverse a la derecha (tecla $\\rightarrow$).</li>\n",
    "    <li>Saltar (tecla $\\uparrow$).</li>\n",
    "    <li>Agarrar objetos (tecla <code>Ctrl</code>).</li>\n",
    "</ul>"
   ]
  },
  {
   "cell_type": "markdown",
   "metadata": {},
   "source": [
    "Con esta información, podemos deducir, en primer lugar, el alfabeto de entrada $\\Sigma = \\{\\leftarrow, \\rightarrow, \\uparrow$, <code>Ctrl</code>$\\}$.<br />\n",
    "Se construye el siguiente automata para representar sus diferentes estados en el juego:"
   ]
  },
  {
   "cell_type": "markdown",
   "metadata": {},
   "source": [
    "<img src=\"img/automata_9.png\"/>"
   ]
  },
  {
   "cell_type": "markdown",
   "metadata": {},
   "source": []
  }
 ],
 "metadata": {
  "kernelspec": {
   "display_name": "Python 3",
   "language": "python",
   "name": "python3"
  },
  "language_info": {
   "codemirror_mode": {
    "name": "ipython",
    "version": 3
   },
   "file_extension": ".py",
   "mimetype": "text/x-python",
   "name": "python",
   "nbconvert_exporter": "python",
   "pygments_lexer": "ipython3",
   "version": "3.6.0"
  }
 },
 "nbformat": 4,
 "nbformat_minor": 2
}
